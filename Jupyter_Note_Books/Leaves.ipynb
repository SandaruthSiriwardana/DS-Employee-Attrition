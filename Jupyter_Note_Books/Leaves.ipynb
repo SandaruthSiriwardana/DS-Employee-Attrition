{
 "cells": [
  {
   "cell_type": "code",
   "execution_count": 14,
   "metadata": {},
   "outputs": [],
   "source": [
    "import pandas as pd\n",
    "import numpy as np\n",
    "import matplotlib.pyplot as plt\n",
    "import seaborn as sns"
   ]
  },
  {
   "cell_type": "code",
   "execution_count": 15,
   "metadata": {},
   "outputs": [
    {
     "data": {
      "text/html": [
       "<div>\n",
       "<style scoped>\n",
       "    .dataframe tbody tr th:only-of-type {\n",
       "        vertical-align: middle;\n",
       "    }\n",
       "\n",
       "    .dataframe tbody tr th {\n",
       "        vertical-align: top;\n",
       "    }\n",
       "\n",
       "    .dataframe thead th {\n",
       "        text-align: right;\n",
       "    }\n",
       "</style>\n",
       "<table border=\"1\" class=\"dataframe\">\n",
       "  <thead>\n",
       "    <tr style=\"text-align: right;\">\n",
       "      <th></th>\n",
       "      <th>Employee_No</th>\n",
       "      <th>leave_date</th>\n",
       "      <th>Type</th>\n",
       "      <th>Applied Date</th>\n",
       "      <th>Remarks</th>\n",
       "      <th>apply_type</th>\n",
       "    </tr>\n",
       "  </thead>\n",
       "  <tbody>\n",
       "    <tr>\n",
       "      <th>0</th>\n",
       "      <td>347</td>\n",
       "      <td>1/29/2020</td>\n",
       "      <td>Half Day</td>\n",
       "      <td>1/4/2022 15:33</td>\n",
       "      <td>\\N</td>\n",
       "      <td>Anual</td>\n",
       "    </tr>\n",
       "    <tr>\n",
       "      <th>1</th>\n",
       "      <td>347</td>\n",
       "      <td>1/29/2020</td>\n",
       "      <td>Half Day</td>\n",
       "      <td>1/4/2022 15:33</td>\n",
       "      <td>\\N</td>\n",
       "      <td>Anual</td>\n",
       "    </tr>\n",
       "    <tr>\n",
       "      <th>2</th>\n",
       "      <td>347</td>\n",
       "      <td>1/29/2020</td>\n",
       "      <td>Half Day</td>\n",
       "      <td>1/4/2022 15:36</td>\n",
       "      <td>\\N</td>\n",
       "      <td>Anual</td>\n",
       "    </tr>\n",
       "    <tr>\n",
       "      <th>3</th>\n",
       "      <td>347</td>\n",
       "      <td>1/29/2020</td>\n",
       "      <td>Half Day</td>\n",
       "      <td>1/4/2022 15:36</td>\n",
       "      <td>\\N</td>\n",
       "      <td>Anual</td>\n",
       "    </tr>\n",
       "    <tr>\n",
       "      <th>4</th>\n",
       "      <td>347</td>\n",
       "      <td>1/29/2020</td>\n",
       "      <td>Half Day</td>\n",
       "      <td>1/4/2022 18:02</td>\n",
       "      <td>\\N</td>\n",
       "      <td>Anual</td>\n",
       "    </tr>\n",
       "  </tbody>\n",
       "</table>\n",
       "</div>"
      ],
      "text/plain": [
       "   Employee_No leave_date      Type    Applied Date Remarks apply_type\n",
       "0          347  1/29/2020  Half Day  1/4/2022 15:33      \\N      Anual\n",
       "1          347  1/29/2020  Half Day  1/4/2022 15:33      \\N      Anual\n",
       "2          347  1/29/2020  Half Day  1/4/2022 15:36      \\N      Anual\n",
       "3          347  1/29/2020  Half Day  1/4/2022 15:36      \\N      Anual\n",
       "4          347  1/29/2020  Half Day  1/4/2022 18:02      \\N      Anual"
      ]
     },
     "execution_count": 15,
     "metadata": {},
     "output_type": "execute_result"
    }
   ],
   "source": [
    "leave = pd.read_csv('../CSV_Files/leaves.csv')\n",
    "leave.head()"
   ]
  },
  {
   "cell_type": "code",
   "execution_count": 16,
   "metadata": {},
   "outputs": [],
   "source": [
    "leave=leave.drop(['Applied Date'],axis=1)"
   ]
  },
  {
   "cell_type": "code",
   "execution_count": 20,
   "metadata": {},
   "outputs": [
    {
     "name": "stdout",
     "output_type": "stream",
     "text": [
      "Employee_No     int64\n",
      "leave_date     object\n",
      "Type           object\n",
      "Remarks        object\n",
      "apply_type     object\n",
      "dtype: object\n",
      "(1018, 5)\n",
      "Employee_No      0\n",
      "leave_date       0\n",
      "Type             0\n",
      "Remarks        245\n",
      "apply_type       0\n",
      "dtype: int64\n"
     ]
    }
   ],
   "source": [
    "print(leave.dtypes)\n",
    "print(leave.shape)\n",
    "print(leave.isnull().sum())"
   ]
  },
  {
   "cell_type": "code",
   "execution_count": 21,
   "metadata": {},
   "outputs": [
    {
     "name": "stdout",
     "output_type": "stream",
     "text": [
      "Employee_No     70\n",
      "leave_date     367\n",
      "Type             2\n",
      "Remarks        135\n",
      "apply_type       2\n",
      "dtype: int64\n"
     ]
    }
   ],
   "source": [
    "# find have how many unique values in each column\n",
    "print(leave.nunique())"
   ]
  }
 ],
 "metadata": {
  "kernelspec": {
   "display_name": "myenv",
   "language": "python",
   "name": "python3"
  },
  "language_info": {
   "codemirror_mode": {
    "name": "ipython",
    "version": 3
   },
   "file_extension": ".py",
   "mimetype": "text/x-python",
   "name": "python",
   "nbconvert_exporter": "python",
   "pygments_lexer": "ipython3",
   "version": "3.10.12"
  },
  "orig_nbformat": 4
 },
 "nbformat": 4,
 "nbformat_minor": 2
}
