{
 "cells": [
  {
   "cell_type": "code",
   "execution_count": 11,
   "metadata": {},
   "outputs": [],
   "source": [
    "import pandas as pd\n",
    "import numpy as np\n",
    "import matplotlib.pyplot as plt\n",
    "import seaborn as sns\n",
    "import datetime"
   ]
  },
  {
   "cell_type": "code",
   "execution_count": 12,
   "metadata": {},
   "outputs": [
    {
     "name": "stderr",
     "output_type": "stream",
     "text": [
      "C:\\Users\\siriw\\AppData\\Local\\Temp\\ipykernel_8716\\41594970.py:1: DtypeWarning: Columns (7) have mixed types. Specify dtype option on import or set low_memory=False.\n",
      "  attendance = pd.read_csv('../CSV_Files/Attendance.csv')\n"
     ]
    }
   ],
   "source": [
    "attendance = pd.read_csv('../CSV_Files/Attendance.csv')\n",
    "holiday = pd.read_csv('../CSV_Files/holidays.csv')"
   ]
  },
  {
   "cell_type": "markdown",
   "metadata": {},
   "source": [
    "remove holidays <2021"
   ]
  },
  {
   "cell_type": "code",
   "execution_count": 13,
   "metadata": {},
   "outputs": [],
   "source": [
    "holiday = holiday.rename(columns={'2017-05-07': 'Holiday'})\n",
    "# Convert 'Holiday' column to datetime format\n",
    "holiday['Holiday'] = pd.to_datetime(holiday['Holiday'])\n",
    "# Filter rows based on the condition\n",
    "holiday = holiday[holiday['Holiday'].dt.year >= 2021]\n",
    "holiday = holiday.reset_index(drop=True)"
   ]
  },
  {
   "cell_type": "code",
   "execution_count": 14,
   "metadata": {},
   "outputs": [
    {
     "name": "stdout",
     "output_type": "stream",
     "text": [
      "Columns are not equal\n",
      "Number of unequal values: 10111\n"
     ]
    }
   ],
   "source": [
    "# Check if 'date' and 'out_date' columns are equal\n",
    "is_equal = (attendance['date'] == attendance['out_date'])\n",
    "\n",
    "if is_equal.all():\n",
    "    print(\"Both columns are equal\")\n",
    "else:\n",
    "    print(\"Columns are not equal\")\n",
    "\n",
    "# Count the number of unequal values\n",
    "unequal_count = (~is_equal).sum()\n",
    "print(f\"Number of unequal values: {unequal_count}\")\n"
   ]
  },
  {
   "cell_type": "markdown",
   "metadata": {},
   "source": [
    "add holidays"
   ]
  },
  {
   "cell_type": "code",
   "execution_count": 15,
   "metadata": {},
   "outputs": [],
   "source": [
    "# Convert the 'date' column in 'attendance' and 'Holiday' column in 'holiday' to datetime format\n",
    "attendance['date'] = pd.to_datetime(attendance['date'])\n",
    "# attendance['out_date'] = pd.to_datetime(attendance['out_date'])\n",
    "holiday['Holiday'] = pd.to_datetime(holiday['Holiday'])\n",
    "\n",
    "# Merge the 'attendance' and 'holiday' DataFrames based on matching dates\n",
    "attendance = pd.merge(attendance, holiday, left_on='date', right_on='Holiday', how='left')\n",
    "\n",
    "# Set the 'kk' column values based on the merge results\n",
    "attendance['Holiday_attend'] = attendance['Holiday'].apply(lambda x: 1 if pd.notnull(x) else 0)\n",
    "\n",
    "# Drop the unnecessary columns ('Holiday') if needed\n",
    "attendance = attendance.drop(columns=['Holiday'])\n"
   ]
  },
  {
   "cell_type": "code",
   "execution_count": 16,
   "metadata": {},
   "outputs": [],
   "source": [
    "attendance = attendance.drop(columns=['date'])\n",
    "attendance = attendance.drop(columns=['out_date'])"
   ]
  },
  {
   "cell_type": "markdown",
   "metadata": {},
   "source": [
    "Inside the try-except block, the 'IN' and 'OUT' columns are created as before, indicating if the employee arrived before the shift start time and left after the shift end time, respectively."
   ]
  },
  {
   "cell_type": "code",
   "execution_count": 17,
   "metadata": {},
   "outputs": [],
   "source": [
    "import pandas as pd\n",
    "\n",
    "# Assuming you have an attendance DataFrame called 'attendance' with 'in_time', 'out_time', 'Shift_Start', and 'Shift_End' columns\n",
    "\n",
    "# Convert time columns to datetime format\n",
    "attendance['in_time'] = pd.to_datetime(attendance['in_time'], format='%H:%M:%S', errors='coerce').dt.time\n",
    "attendance['out_time'] = pd.to_datetime(attendance['out_time'], format='%H:%M:%S', errors='coerce').dt.time\n",
    "attendance['Shift_Start'] = pd.to_datetime(attendance['Shift_Start'], format='%H:%M:%S', errors='coerce').dt.time\n",
    "attendance['Shift_End'] = pd.to_datetime(attendance['Shift_End'], format='%H:%M:%S', errors='coerce').dt.time\n",
    "\n",
    "try:\n",
    "    # Create 'IN' column to indicate if arrived before shift start time\n",
    "    attendance['One_Time_IN'] = (attendance['in_time'] <= attendance['Shift_Start']).astype(int)\n",
    "\n",
    "    # Create 'OUT' column to indicate if left after shift end time\n",
    "    attendance['One_Time_OUT'] = (attendance['out_time'] >= attendance['Shift_End']).astype(int)\n",
    "\n",
    "except pd.errors.ParserError:\n",
    "    # If a ParserError occurs, remove the row with the invalid time value\n",
    "    attendance = attendance.drop(735)\n",
    "\n",
    "\n",
    "attendance = attendance.drop(columns=['in_time', 'out_time'])\n",
    "# Preview the updated attendance DataFrame\n",
    "# attendance\n"
   ]
  },
  {
   "cell_type": "markdown",
   "metadata": {},
   "source": [
    "Time shift mapper"
   ]
  },
  {
   "cell_type": "code",
   "execution_count": 18,
   "metadata": {},
   "outputs": [
    {
     "name": "stdout",
     "output_type": "stream",
     "text": [
      "Piras_Code: 1 - 08:30:00 - 17:00:00\n",
      "Piras_Code: 2 - 08:00:00 - 17:00:00\n",
      "Piras_Code: 3 - 08:30:00 - 13:30:00\n",
      "Piras_Code: 0 - 00:00:00 - 00:00:00\n",
      "Piras_Code: 4 - 07:00:00 - 06:59:00\n",
      "Piras_Code: 5 - 08:00:00 - 07:00:00\n",
      "Piras_Code: 6 - 18:00:00 - 06:00:00\n",
      "Piras_Code: 7 - 07:30:00 - 18:00:00\n",
      "Piras_Code: 8 - 06:00:00 - 07:00:00\n",
      "Piras_Code: 9 - 19:00:00 - 07:00:00\n",
      "Piras_Code: 10 - 17:00:00 - 22:00:00\n",
      "Piras_Code: 11 - 17:00:00 - 08:00:00\n"
     ]
    }
   ],
   "source": [
    "import pandas as pd\n",
    "import numpy as np\n",
    "\n",
    "# Assuming you have a DataFrame called 'attendance' with 'Shift_Start', 'Shift_End', and 'Piras_Code' columns\n",
    "\n",
    "# Create a new column 'Piras' and generate unique integer codes\n",
    "attendance['Piras'] = attendance['Shift_Start'].astype(str) + '_' + attendance['Shift_End'].astype(str)\n",
    "unique_piras = attendance['Piras'].unique()\n",
    "attendance['Piras'] = attendance['Piras'].replace('00:00:00_00:00:00', np.nan)\n",
    "attendance['Piras_Code'] = attendance['Piras'].factorize()[0] + 1\n",
    "\n",
    "# Create a mapping dictionary for NaN values\n",
    "nan_map = {np.nan: 'No_Piras'}\n",
    "\n",
    "# Map the index values for rows with NaN 'Piras' values\n",
    "attendance['Index_Mapping'] = attendance['Piras'].map(nan_map)\n",
    "\n",
    "# Print each unique Piras_Code value, corresponding pair of Shift_Start and Shift_End values, and the Index_Mapping\n",
    "for code in attendance['Piras_Code'].unique():\n",
    "    piras_pair = attendance[attendance['Piras_Code'] == code][['Shift_Start', 'Shift_End']].iloc[0]\n",
    "    index_mapping = attendance.loc[attendance['Piras_Code'] == code, 'Index_Mapping'].iloc[0]\n",
    "    print(f\"Piras_Code: {code} - {piras_pair['Shift_Start']} - {piras_pair['Shift_End']}\")\n",
    "\n",
    "# remove unwanted columns\n",
    "attendance = attendance.drop(columns=['Piras', 'Index_Mapping', 'Shift_Start', 'Shift_End'])\n",
    "\n",
    "# attendance"
   ]
  },
  {
   "cell_type": "code",
   "execution_count": 19,
   "metadata": {},
   "outputs": [
    {
     "data": {
      "text/html": [
       "<div>\n",
       "<style scoped>\n",
       "    .dataframe tbody tr th:only-of-type {\n",
       "        vertical-align: middle;\n",
       "    }\n",
       "\n",
       "    .dataframe tbody tr th {\n",
       "        vertical-align: top;\n",
       "    }\n",
       "\n",
       "    .dataframe thead th {\n",
       "        text-align: right;\n",
       "    }\n",
       "</style>\n",
       "<table border=\"1\" class=\"dataframe\">\n",
       "  <thead>\n",
       "    <tr style=\"text-align: right;\">\n",
       "      <th></th>\n",
       "      <th>project_code</th>\n",
       "      <th>Employee_No</th>\n",
       "      <th>Hourly_Time</th>\n",
       "      <th>Holiday_attend</th>\n",
       "      <th>One_Time_IN</th>\n",
       "      <th>One_Time_OUT</th>\n",
       "      <th>Piras_Code</th>\n",
       "    </tr>\n",
       "  </thead>\n",
       "  <tbody>\n",
       "    <tr>\n",
       "      <th>0</th>\n",
       "      <td>100.0</td>\n",
       "      <td>1272</td>\n",
       "      <td>8.5</td>\n",
       "      <td>0</td>\n",
       "      <td>1</td>\n",
       "      <td>1</td>\n",
       "      <td>1</td>\n",
       "    </tr>\n",
       "    <tr>\n",
       "      <th>1</th>\n",
       "      <td>1.0</td>\n",
       "      <td>1539</td>\n",
       "      <td>8.5</td>\n",
       "      <td>0</td>\n",
       "      <td>1</td>\n",
       "      <td>1</td>\n",
       "      <td>1</td>\n",
       "    </tr>\n",
       "    <tr>\n",
       "      <th>2</th>\n",
       "      <td>1.0</td>\n",
       "      <td>1540</td>\n",
       "      <td>9.25</td>\n",
       "      <td>0</td>\n",
       "      <td>1</td>\n",
       "      <td>1</td>\n",
       "      <td>1</td>\n",
       "    </tr>\n",
       "    <tr>\n",
       "      <th>3</th>\n",
       "      <td>100.0</td>\n",
       "      <td>1273</td>\n",
       "      <td>10</td>\n",
       "      <td>0</td>\n",
       "      <td>1</td>\n",
       "      <td>1</td>\n",
       "      <td>1</td>\n",
       "    </tr>\n",
       "    <tr>\n",
       "      <th>4</th>\n",
       "      <td>1.0</td>\n",
       "      <td>573</td>\n",
       "      <td>0</td>\n",
       "      <td>0</td>\n",
       "      <td>0</td>\n",
       "      <td>1</td>\n",
       "      <td>1</td>\n",
       "    </tr>\n",
       "    <tr>\n",
       "      <th>...</th>\n",
       "      <td>...</td>\n",
       "      <td>...</td>\n",
       "      <td>...</td>\n",
       "      <td>...</td>\n",
       "      <td>...</td>\n",
       "      <td>...</td>\n",
       "      <td>...</td>\n",
       "    </tr>\n",
       "    <tr>\n",
       "      <th>224052</th>\n",
       "      <td>206.0</td>\n",
       "      <td>2455</td>\n",
       "      <td>5.03</td>\n",
       "      <td>0</td>\n",
       "      <td>1</td>\n",
       "      <td>0</td>\n",
       "      <td>2</td>\n",
       "    </tr>\n",
       "    <tr>\n",
       "      <th>224053</th>\n",
       "      <td>206.0</td>\n",
       "      <td>2453</td>\n",
       "      <td>10.73</td>\n",
       "      <td>0</td>\n",
       "      <td>1</td>\n",
       "      <td>1</td>\n",
       "      <td>2</td>\n",
       "    </tr>\n",
       "    <tr>\n",
       "      <th>224054</th>\n",
       "      <td>206.0</td>\n",
       "      <td>2406</td>\n",
       "      <td>0.0</td>\n",
       "      <td>0</td>\n",
       "      <td>0</td>\n",
       "      <td>1</td>\n",
       "      <td>0</td>\n",
       "    </tr>\n",
       "    <tr>\n",
       "      <th>224055</th>\n",
       "      <td>206.0</td>\n",
       "      <td>2429</td>\n",
       "      <td>0.0</td>\n",
       "      <td>0</td>\n",
       "      <td>0</td>\n",
       "      <td>1</td>\n",
       "      <td>0</td>\n",
       "    </tr>\n",
       "    <tr>\n",
       "      <th>224056</th>\n",
       "      <td>206.0</td>\n",
       "      <td>2428</td>\n",
       "      <td>0.0</td>\n",
       "      <td>0</td>\n",
       "      <td>0</td>\n",
       "      <td>1</td>\n",
       "      <td>0</td>\n",
       "    </tr>\n",
       "  </tbody>\n",
       "</table>\n",
       "<p>224057 rows × 7 columns</p>\n",
       "</div>"
      ],
      "text/plain": [
       "        project_code  Employee_No Hourly_Time  Holiday_attend  One_Time_IN  \\\n",
       "0              100.0         1272         8.5               0            1   \n",
       "1                1.0         1539         8.5               0            1   \n",
       "2                1.0         1540        9.25               0            1   \n",
       "3              100.0         1273          10               0            1   \n",
       "4                1.0          573           0               0            0   \n",
       "...              ...          ...         ...             ...          ...   \n",
       "224052         206.0         2455        5.03               0            1   \n",
       "224053         206.0         2453       10.73               0            1   \n",
       "224054         206.0         2406         0.0               0            0   \n",
       "224055         206.0         2429         0.0               0            0   \n",
       "224056         206.0         2428         0.0               0            0   \n",
       "\n",
       "        One_Time_OUT  Piras_Code  \n",
       "0                  1           1  \n",
       "1                  1           1  \n",
       "2                  1           1  \n",
       "3                  1           1  \n",
       "4                  1           1  \n",
       "...              ...         ...  \n",
       "224052             0           2  \n",
       "224053             1           2  \n",
       "224054             1           0  \n",
       "224055             1           0  \n",
       "224056             1           0  \n",
       "\n",
       "[224057 rows x 7 columns]"
      ]
     },
     "execution_count": 19,
     "metadata": {},
     "output_type": "execute_result"
    }
   ],
   "source": [
    "attendance = attendance.drop(columns=['id'])\n",
    "attendance.to_csv('attendance_preprocess.csv', index=False)\n",
    "attendance"
   ]
  }
 ],
 "metadata": {
  "kernelspec": {
   "display_name": "myenv",
   "language": "python",
   "name": "python3"
  },
  "language_info": {
   "codemirror_mode": {
    "name": "ipython",
    "version": 3
   },
   "file_extension": ".py",
   "mimetype": "text/x-python",
   "name": "python",
   "nbconvert_exporter": "python",
   "pygments_lexer": "ipython3",
   "version": "3.10.12"
  },
  "orig_nbformat": 4
 },
 "nbformat": 4,
 "nbformat_minor": 2
}
