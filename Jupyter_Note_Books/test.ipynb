{
 "cells": [
  {
   "cell_type": "code",
   "execution_count": 9,
   "metadata": {},
   "outputs": [
    {
     "name": "stdout",
     "output_type": "stream",
     "text": [
      "     2017-05-07\n",
      "0    2017-05-14\n",
      "1    2017-05-21\n",
      "2    2017-05-28\n",
      "3    2017-06-04\n",
      "4    2017-06-11\n",
      "..          ...\n",
      "115  2022-12-25\n",
      "116  2022-12-29\n",
      "117  2022-12-30\n",
      "118  2022-07-13\n",
      "119  2023-01-06\n",
      "\n",
      "[120 rows x 1 columns]\n"
     ]
    }
   ],
   "source": [
    "import pandas as pd\n",
    "\n",
    "# Specify the relative file path to helo.csv\n",
    "# file_path = '../CSV_Files/holidays.csv'\n",
    "\n",
    "# Read the CSV file\n",
    "df = pd.read_csv('../CSV_Files/holidays.csv')\n",
    "\n",
    "# Preview the DataFrame\n",
    "print(df)\n"
   ]
  }
 ],
 "metadata": {
  "kernelspec": {
   "display_name": "myenv",
   "language": "python",
   "name": "python3"
  },
  "language_info": {
   "codemirror_mode": {
    "name": "ipython",
    "version": 3
   },
   "file_extension": ".py",
   "mimetype": "text/x-python",
   "name": "python",
   "nbconvert_exporter": "python",
   "pygments_lexer": "ipython3",
   "version": "3.10.12"
  },
  "orig_nbformat": 4
 },
 "nbformat": 4,
 "nbformat_minor": 2
}
